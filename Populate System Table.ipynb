{
 "cells": [
  {
   "cell_type": "code",
   "execution_count": 0,
   "metadata": {
    "application/vnd.databricks.v1+cell": {
     "cellMetadata": {
      "byteLimit": 2048000,
      "rowLimit": 10000
     },
     "inputWidgets": {},
     "nuid": "d9c8feff-5f19-4941-b2a6-2409fb731114",
     "showTitle": false,
     "tableResultSettingsMap": {},
     "title": ""
    }
   },
   "outputs": [],
   "source": [
    "%pip install databricks-sdk --upgrade\n",
    "dbutils.library.restartPython()"
   ]
  },
  {
   "cell_type": "code",
   "execution_count": 0,
   "metadata": {
    "application/vnd.databricks.v1+cell": {
     "cellMetadata": {
      "byteLimit": 2048000,
      "rowLimit": 10000
     },
     "inputWidgets": {},
     "nuid": "a9fb80fa-1340-4122-a0de-53b70948dc7f",
     "showTitle": false,
     "tableResultSettingsMap": {},
     "title": ""
    }
   },
   "outputs": [],
   "source": [
    "from databricks.sdk import WorkspaceClient\n",
    "from databricks.sdk.service import workspace\n",
    "\n",
    "w = WorkspaceClient()\n",
    "workspace_id = w.get_workspace_id()\n",
    "\n",
    "response = w.query_history.list()\n",
    "for r in response:\n",
    "    print(r.statement_type.value)"
   ]
  },
  {
   "cell_type": "code",
   "execution_count": 0,
   "metadata": {
    "application/vnd.databricks.v1+cell": {
     "cellMetadata": {
      "byteLimit": 2048000,
      "rowLimit": 10000
     },
     "inputWidgets": {},
     "nuid": "11dfae9f-55fe-439d-9e7c-ceb19454ca42",
     "showTitle": false,
     "tableResultSettingsMap": {},
     "title": ""
    }
   },
   "outputs": [],
   "source": [
    "data_type = dbutils.widgets.get(\"data_type\")\n",
    "target_table = dbutils.widgets.get(\"target_table\")"
   ]
  },
  {
   "cell_type": "code",
   "execution_count": 0,
   "metadata": {
    "application/vnd.databricks.v1+cell": {
     "cellMetadata": {
      "byteLimit": 2048000,
      "rowLimit": 10000
     },
     "inputWidgets": {},
     "nuid": "f82bdd59-c4ac-41eb-a8b0-0597c60ce15d",
     "showTitle": false,
     "tableResultSettingsMap": {},
     "title": ""
    }
   },
   "outputs": [],
   "source": [
    "\n",
    "from dbx_scraper import DBXScraper\n",
    "\n",
    "scraper = DBXScraper(data_type, target_table, workspace_id, spark)\n",
    "\n",
    "scraper.execute()"
   ]
  },
  {
   "cell_type": "code",
   "execution_count": 0,
   "metadata": {
    "application/vnd.databricks.v1+cell": {
     "cellMetadata": {
      "byteLimit": 2048000,
      "implicitDf": true,
      "rowLimit": 10000
     },
     "inputWidgets": {},
     "nuid": "44e791e4-9bd0-4e3f-bec3-5dd31c46f6be",
     "showTitle": false,
     "tableResultSettingsMap": {},
     "title": ""
    }
   },
   "outputs": [],
   "source": [
    "%sql\n",
    "-- DROP TABLE gary_burgett.dlt.query_history"
   ]
  },
  {
   "cell_type": "code",
   "execution_count": 0,
   "metadata": {
    "application/vnd.databricks.v1+cell": {
     "cellMetadata": {},
     "inputWidgets": {},
     "nuid": "73052f2e-7011-4a47-8532-dd1bd7e84a79",
     "showTitle": false,
     "tableResultSettingsMap": {},
     "title": ""
    }
   },
   "outputs": [],
   "source": [
    "def fetch_query_history_to_df(databricks_client, workspace_id, start_time, end_time):\n",
    "    # Pull data from Query History API\n",
    "    response = databricks_client.query_history.list(\n",
    "        workspace_id=workspace_id,\n",
    "        filter_by_start_time=start_time,\n",
    "        filter_by_end_time=end_time\n",
    "    )\n",
    "    records = response.get('statements', [])\n",
    "\n",
    "    # Map API response to system.query.history schema\n",
    "    rows = []\n",
    "    for r in records:\n",
    "        row = {\n",
    "            'account_id': r.get('account_id'),\n",
    "            'workspace_id': r.get('workspace_id'),\n",
    "            'statement_id': r.get('statement_id'),\n",
    "            'executed_by': r.get('executed_by'),\n",
    "            'session_id': r.get('session_id'),\n",
    "            'execution_status': r.get('status'),\n",
    "            'compute': r.get('compute'),\n",
    "            'executed_by_user_id': r.get('executed_by_user_id'),\n",
    "            'statement_text': r.get('statement_text'),\n",
    "            'statement_type': r.get('statement_type'),\n",
    "            'error_message': r.get('error_message'),\n",
    "            'client_application': r.get('client_application'),\n",
    "            'client_driver': r.get('client_driver'),\n",
    "            'total_duration_ms': r.get('metrics', {}).get('total_duration_ms'),\n",
    "            'waiting_for_compute_duration_ms': r.get('metrics', {}).get('waiting_for_compute_duration_ms'),\n",
    "            'waiting_at_capacity_duration_ms': r.get('metrics', {}).get('waiting_at_capacity_duration_ms'),\n",
    "            'execution_duration_ms': r.get('metrics', {}).get('execution_duration_ms'),\n",
    "            'compilation_duration_ms': r.get('metrics', {}).get('compilation_duration_ms'),\n",
    "            'total_task_duration_ms': r.get('metrics', {}).get('total_task_duration_ms'),\n",
    "            'result_fetch_duration_ms': r.get('metrics', {}).get('result_fetch_duration_ms'),\n",
    "            'start_time': r.get('start_time'),\n",
    "            'end_time': r.get('end_time'),\n",
    "            'update_time': r.get('update_time'),\n",
    "            'read_partitions': r.get('metrics', {}).get('read_partitions'),\n",
    "            'pruned_files': r.get('metrics', {}).get('pruned_files'),\n",
    "            'read_files': r.get('metrics', {}).get('read_files'),\n",
    "            'read_rows': r.get('metrics', {}).get('read_rows'),\n",
    "            'produced_rows': r.get('metrics', {}).get('produced_rows'),\n",
    "            'read_bytes': r.get('metrics', {}).get('read_bytes'),\n",
    "            'read_io_cache_percent': r.get('metrics', {}).get('read_io_cache_percent'),\n",
    "            'from_result_cache': r.get('metrics', {}).get('from_result_cache'),\n",
    "            'spilled_local_bytes': r.get('metrics', {}).get('spilled_local_bytes'),\n",
    "            'written_bytes': r.get('metrics', {}).get('written_bytes'),\n",
    "            'shuffle_read_bytes': r.get('metrics', {}).get('shuffle_read_bytes'),\n",
    "            'query_source': r.get('query_source'),\n",
    "            'executed_as_user_id': r.get('executed_as_user_id'),\n",
    "            'executed_as': r.get('executed_as')\n",
    "        }\n",
    "        rows.append(row)\n",
    "\n",
    "    # Convert to Spark DataFrame\n",
    "    df = spark.createDataFrame(rows)\n",
    "    return df"
   ]
  },
  {
   "cell_type": "code",
   "execution_count": 0,
   "metadata": {
    "application/vnd.databricks.v1+cell": {
     "cellMetadata": {
      "byteLimit": 2048000,
      "implicitDf": true,
      "rowLimit": 10000
     },
     "inputWidgets": {},
     "nuid": "418239c6-952e-45d2-af41-b54b271437aa",
     "showTitle": false,
     "tableResultSettingsMap": {},
     "title": ""
    }
   },
   "outputs": [],
   "source": [
    "%sql\n",
    "SELECT * FROM system.query.history LIMIT 1000"
   ]
  },
  {
   "cell_type": "code",
   "execution_count": 0,
   "metadata": {
    "application/vnd.databricks.v1+cell": {
     "cellMetadata": {},
     "inputWidgets": {},
     "nuid": "e54d02cd-65a8-4390-95d0-998e1ab111e9",
     "showTitle": false,
     "tableResultSettingsMap": {},
     "title": ""
    }
   },
   "outputs": [],
   "source": []
  }
 ],
 "metadata": {
  "application/vnd.databricks.v1+notebook": {
   "computePreferences": {
    "hardware": {
     "accelerator": null,
     "gpuPoolId": null,
     "memory": null
    }
   },
   "dashboards": [],
   "environmentMetadata": {
    "base_environment": "dbe_f14fbde8-5353-4144-89be-f0a3e93fffc9",
    "environment_version": "2"
   },
   "inputWidgetPreferences": null,
   "language": "python",
   "notebookMetadata": {
    "mostRecentlyExecutedCommandWithImplicitDF": {
     "commandId": 5816783787060341,
     "dataframes": [
      "_sqldf"
     ]
    },
    "pythonIndentUnit": 2
   },
   "notebookName": "Populate System Table",
   "widgets": {
    "data_type": {
     "currentValue": "query_history",
     "nuid": "a226688b-ea6a-4741-bf4c-23b735ac55c3",
     "typedWidgetInfo": {
      "autoCreated": false,
      "defaultValue": "query_history",
      "label": "",
      "name": "data_type",
      "options": {
       "widgetDisplayType": "Dropdown",
       "choices": [
        "query_history",
        "jobs",
        "cluster_info",
        "cluster_events"
       ],
       "fixedDomain": true,
       "multiselect": false
      },
      "parameterDataType": "String"
     },
     "widgetInfo": {
      "widgetType": "dropdown",
      "defaultValue": "query_history",
      "label": "",
      "name": "data_type",
      "options": {
       "widgetType": "dropdown",
       "autoCreated": false,
       "choices": [
        "query_history",
        "jobs",
        "cluster_info",
        "cluster_events"
       ]
      }
     }
    },
    "target_table": {
     "currentValue": "gary_burgett.dlt.query_history",
     "nuid": "d70dd71f-97cf-45e9-a216-59119d27942c",
     "typedWidgetInfo": {
      "autoCreated": false,
      "defaultValue": "",
      "label": "",
      "name": "target_table",
      "options": {
       "widgetDisplayType": "Text",
       "validationRegex": null
      },
      "parameterDataType": "String"
     },
     "widgetInfo": {
      "widgetType": "text",
      "defaultValue": "",
      "label": "",
      "name": "target_table",
      "options": {
       "widgetType": "text",
       "autoCreated": false,
       "validationRegex": null
      }
     }
    }
   }
  },
  "language_info": {
   "name": "python"
  }
 },
 "nbformat": 4,
 "nbformat_minor": 0
}
