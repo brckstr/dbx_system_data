{
 "cells": [
  {
   "cell_type": "code",
   "execution_count": 0,
   "metadata": {
    "application/vnd.databricks.v1+cell": {
     "cellMetadata": {
      "byteLimit": 2048000,
      "rowLimit": 10000
     },
     "inputWidgets": {},
     "nuid": "d9c8feff-5f19-4941-b2a6-2409fb731114",
     "showTitle": false,
     "tableResultSettingsMap": {},
     "title": ""
    }
   },
   "outputs": [],
   "source": [
    "%pip install databricks-sdk==0.20.0\n",
    "dbutils.library.restartPython()"
   ]
  },
  {
   "cell_type": "code",
   "execution_count": 0,
   "metadata": {
    "application/vnd.databricks.v1+cell": {
     "cellMetadata": {
      "byteLimit": 2048000,
      "rowLimit": 10000
     },
     "inputWidgets": {},
     "nuid": "11dfae9f-55fe-439d-9e7c-ceb19454ca42",
     "showTitle": false,
     "tableResultSettingsMap": {},
     "title": ""
    }
   },
   "outputs": [],
   "source": [
    "data_type = dbutils.widgets.get(\"data_type\")\n",
    "target_table = dbutils.widgets.get(\"target_table\")"
   ]
  },
  {
   "cell_type": "code",
   "execution_count": 0,
   "metadata": {
    "application/vnd.databricks.v1+cell": {
     "cellMetadata": {
      "byteLimit": 2048000,
      "rowLimit": 10000
     },
     "inputWidgets": {},
     "nuid": "f82bdd59-c4ac-41eb-a8b0-0597c60ce15d",
     "showTitle": false,
     "tableResultSettingsMap": {},
     "title": ""
    }
   },
   "outputs": [],
   "source": [
    "from dbx_scraper import DBXScraper\n",
    "\n",
    "scraper = DBXScraper(data_type, target_table, spark)\n",
    "\n",
    "scraper.execute()"
   ]
  }
 ],
 "metadata": {
  "application/vnd.databricks.v1+notebook": {
   "computePreferences": {
    "hardware": {
     "accelerator": null,
     "gpuPoolId": null,
     "memory": null
    }
   },
   "dashboards": [],
   "environmentMetadata": {
    "base_environment": "dbe_f14fbde8-5353-4144-89be-f0a3e93fffc9",
    "environment_version": "2"
   },
   "inputWidgetPreferences": null,
   "language": "python",
   "notebookMetadata": {
    "mostRecentlyExecutedCommandWithImplicitDF": {
     "commandId": 7270276629123206,
     "dataframes": [
      "_sqldf"
     ]
    },
    "pythonIndentUnit": 2
   },
   "notebookName": "Populate System Table",
   "widgets": {
    "data_type": {
     "currentValue": "warehouse_events",
     "nuid": "a226688b-ea6a-4741-bf4c-23b735ac55c3",
     "typedWidgetInfo": {
      "autoCreated": false,
      "defaultValue": "query_history",
      "label": "",
      "name": "data_type",
      "options": {
       "widgetDisplayType": "Dropdown",
       "choices": [
        "query_history",
        "jobs",
        "cluster_events",
        "warehouses",
        "clusters",
        "warehouse_events"
       ],
       "fixedDomain": true,
       "multiselect": false
      },
      "parameterDataType": "String"
     },
     "widgetInfo": {
      "widgetType": "dropdown",
      "defaultValue": "query_history",
      "label": "",
      "name": "data_type",
      "options": {
       "widgetType": "dropdown",
       "autoCreated": false,
       "choices": [
        "query_history",
        "jobs",
        "cluster_events",
        "warehouses",
        "clusters",
        "warehouse_events"
       ]
      }
     }
    },
    "target_table": {
     "currentValue": "gary_burgett.dlt.warehouse_events",
     "nuid": "d70dd71f-97cf-45e9-a216-59119d27942c",
     "typedWidgetInfo": {
      "autoCreated": false,
      "defaultValue": "",
      "label": "",
      "name": "target_table",
      "options": {
       "widgetDisplayType": "Text",
       "validationRegex": null
      },
      "parameterDataType": "String"
     },
     "widgetInfo": {
      "widgetType": "text",
      "defaultValue": "",
      "label": "",
      "name": "target_table",
      "options": {
       "widgetType": "text",
       "autoCreated": false,
       "validationRegex": null
      }
     }
    }
   }
  },
  "language_info": {
   "name": "python"
  }
 },
 "nbformat": 4,
 "nbformat_minor": 0
}
